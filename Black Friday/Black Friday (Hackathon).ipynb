{
 "cells": [
  {
   "cell_type": "code",
   "execution_count": 1,
   "metadata": {},
   "outputs": [],
   "source": [
    "import pandas as pd\n",
    "import numpy as np \n",
    "import matplotlib.pyplot as plt\n",
    "%matplotlib inline\n",
    "import seaborn as sns"
   ]
  },
  {
   "cell_type": "code",
   "execution_count": 2,
   "metadata": {},
   "outputs": [],
   "source": [
    "train=pd.read_csv(\"train.csv\")"
   ]
  },
  {
   "cell_type": "code",
   "execution_count": 3,
   "metadata": {},
   "outputs": [],
   "source": [
    "test=pd.read_csv(\"test.csv\")"
   ]
  },
  {
   "cell_type": "code",
   "execution_count": 50,
   "metadata": {},
   "outputs": [
    {
     "name": "stdout",
     "output_type": "stream",
     "text": [
      "<class 'pandas.core.frame.DataFrame'>\n",
      "RangeIndex: 550068 entries, 0 to 550067\n",
      "Data columns (total 16 columns):\n",
      "User_ID                         550068 non-null int64\n",
      "Product_ID                      550068 non-null int32\n",
      "Gender                          550068 non-null int64\n",
      "Age                             550068 non-null int64\n",
      "Occupation                      550068 non-null int64\n",
      "City_Category                   550068 non-null int64\n",
      "Marital_Status                  550068 non-null int64\n",
      "Product_Category_1              550068 non-null int64\n",
      "Product_Category_2              550068 non-null float64\n",
      "Product_Category_3              166821 non-null float64\n",
      "Purchase                        550068 non-null int64\n",
      "Stay_In_Current_City_Years_0    550068 non-null uint8\n",
      "Stay_In_Current_City_Years_1    550068 non-null uint8\n",
      "Stay_In_Current_City_Years_2    550068 non-null uint8\n",
      "Stay_In_Current_City_Years_3    550068 non-null uint8\n",
      "Stay_In_Current_City_Years_4    550068 non-null uint8\n",
      "dtypes: float64(2), int32(1), int64(8), uint8(5)\n",
      "memory usage: 46.7 MB\n"
     ]
    }
   ],
   "source": [
    "train.info()"
   ]
  },
  {
   "cell_type": "code",
   "execution_count": 51,
   "metadata": {},
   "outputs": [
    {
     "name": "stdout",
     "output_type": "stream",
     "text": [
      "<class 'pandas.core.frame.DataFrame'>\n",
      "RangeIndex: 233599 entries, 0 to 233598\n",
      "Data columns (total 15 columns):\n",
      "User_ID                         233599 non-null int64\n",
      "Product_ID                      233599 non-null int32\n",
      "Gender                          233599 non-null int64\n",
      "Age                             233599 non-null int64\n",
      "Occupation                      233599 non-null int64\n",
      "City_Category                   233599 non-null int64\n",
      "Marital_Status                  233599 non-null int64\n",
      "Product_Category_1              233599 non-null int64\n",
      "Product_Category_2              233599 non-null float64\n",
      "Product_Category_3              71037 non-null float64\n",
      "Stay_In_Current_City_Years_0    233599 non-null uint8\n",
      "Stay_In_Current_City_Years_1    233599 non-null uint8\n",
      "Stay_In_Current_City_Years_2    233599 non-null uint8\n",
      "Stay_In_Current_City_Years_3    233599 non-null uint8\n",
      "Stay_In_Current_City_Years_4    233599 non-null uint8\n",
      "dtypes: float64(2), int32(1), int64(7), uint8(5)\n",
      "memory usage: 18.0 MB\n"
     ]
    }
   ],
   "source": [
    "test.info()"
   ]
  },
  {
   "cell_type": "code",
   "execution_count": null,
   "metadata": {},
   "outputs": [],
   "source": [
    "##creating product id as int"
   ]
  },
  {
   "cell_type": "code",
   "execution_count": 4,
   "metadata": {},
   "outputs": [],
   "source": [
    "train[\"Product_ID\"]=train[\"Product_ID\"].str.replace(\"P\",\"\")"
   ]
  },
  {
   "cell_type": "code",
   "execution_count": 5,
   "metadata": {},
   "outputs": [],
   "source": [
    "test[\"Product_ID\"]=test[\"Product_ID\"].str.replace(\"P\",\"\")"
   ]
  },
  {
   "cell_type": "code",
   "execution_count": 6,
   "metadata": {},
   "outputs": [],
   "source": [
    "train.Product_ID=train.Product_ID.astype(str).astype(int)"
   ]
  },
  {
   "cell_type": "code",
   "execution_count": 7,
   "metadata": {},
   "outputs": [],
   "source": [
    "test.Product_ID=test.Product_ID.astype(str).astype(int)"
   ]
  },
  {
   "cell_type": "code",
   "execution_count": null,
   "metadata": {},
   "outputs": [],
   "source": []
  },
  {
   "cell_type": "code",
   "execution_count": 24,
   "metadata": {},
   "outputs": [
    {
     "data": {
      "text/plain": [
       "M    414259\n",
       "F    135809\n",
       "Name: Gender, dtype: int64"
      ]
     },
     "execution_count": 24,
     "metadata": {},
     "output_type": "execute_result"
    }
   ],
   "source": [
    "##creating gender as int\n",
    "train.Gender.value_counts()"
   ]
  },
  {
   "cell_type": "code",
   "execution_count": 8,
   "metadata": {},
   "outputs": [],
   "source": [
    "train.Gender=train.Gender.map({\"M\":1,\"F\":0})"
   ]
  },
  {
   "cell_type": "code",
   "execution_count": 9,
   "metadata": {},
   "outputs": [],
   "source": [
    "test.Gender=test.Gender.map({\"M\":1,\"F\":0})"
   ]
  },
  {
   "cell_type": "code",
   "execution_count": null,
   "metadata": {},
   "outputs": [],
   "source": []
  },
  {
   "cell_type": "code",
   "execution_count": 30,
   "metadata": {},
   "outputs": [
    {
     "data": {
      "text/plain": [
       "26-35    219587\n",
       "36-45    110013\n",
       "18-25     99660\n",
       "46-50     45701\n",
       "51-55     38501\n",
       "55+       21504\n",
       "0-17      15102\n",
       "Name: Age, dtype: int64"
      ]
     },
     "execution_count": 30,
     "metadata": {},
     "output_type": "execute_result"
    }
   ],
   "source": [
    "train.Age.value_counts()"
   ]
  },
  {
   "cell_type": "code",
   "execution_count": 10,
   "metadata": {},
   "outputs": [],
   "source": [
    "train.Age=train.Age.map({\"0-17\":17,\"18-25\":25,\"26-35\":35,\"36-45\":45,\"46-50\":50,\"51-55\":55,\"55+\":60})"
   ]
  },
  {
   "cell_type": "code",
   "execution_count": 11,
   "metadata": {},
   "outputs": [],
   "source": [
    "test.Age=test.Age.map({\"0-17\":17,\"18-25\":25,\"26-35\":35,\"36-45\":45,\"46-50\":50,\"51-55\":55,\"55+\":60})"
   ]
  },
  {
   "cell_type": "code",
   "execution_count": null,
   "metadata": {},
   "outputs": [],
   "source": []
  },
  {
   "cell_type": "code",
   "execution_count": 35,
   "metadata": {},
   "outputs": [
    {
     "data": {
      "text/plain": [
       "B    231173\n",
       "C    171175\n",
       "A    147720\n",
       "Name: City_Category, dtype: int64"
      ]
     },
     "execution_count": 35,
     "metadata": {},
     "output_type": "execute_result"
    }
   ],
   "source": [
    "train.City_Category.value_counts()"
   ]
  },
  {
   "cell_type": "code",
   "execution_count": 12,
   "metadata": {},
   "outputs": [],
   "source": [
    "train.City_Category=train.City_Category.map({\"A\":1,\"B\":2,\"C\":3})"
   ]
  },
  {
   "cell_type": "code",
   "execution_count": 13,
   "metadata": {},
   "outputs": [],
   "source": [
    "test.City_Category=test.City_Category.map({\"A\":1,\"B\":2,\"C\":3})"
   ]
  },
  {
   "cell_type": "code",
   "execution_count": null,
   "metadata": {},
   "outputs": [],
   "source": []
  },
  {
   "cell_type": "code",
   "execution_count": 14,
   "metadata": {},
   "outputs": [],
   "source": [
    "from sklearn.preprocessing import LabelEncoder\n",
    "le = LabelEncoder()\n",
    "\n",
    "train['Stay_In_Current_City_Years'] = le.fit_transform(train['Stay_In_Current_City_Years'])\n",
    "    \n",
    "#Dummy Variables:\n",
    "train = pd.get_dummies(train, columns=['Stay_In_Current_City_Years'])\n",
    "\n",
    "\n",
    "\n"
   ]
  },
  {
   "cell_type": "code",
   "execution_count": 43,
   "metadata": {},
   "outputs": [
    {
     "data": {
      "text/html": [
       "<div>\n",
       "<style scoped>\n",
       "    .dataframe tbody tr th:only-of-type {\n",
       "        vertical-align: middle;\n",
       "    }\n",
       "\n",
       "    .dataframe tbody tr th {\n",
       "        vertical-align: top;\n",
       "    }\n",
       "\n",
       "    .dataframe thead th {\n",
       "        text-align: right;\n",
       "    }\n",
       "</style>\n",
       "<table border=\"1\" class=\"dataframe\">\n",
       "  <thead>\n",
       "    <tr style=\"text-align: right;\">\n",
       "      <th></th>\n",
       "      <th>User_ID</th>\n",
       "      <th>Product_ID</th>\n",
       "      <th>Gender</th>\n",
       "      <th>Age</th>\n",
       "      <th>Occupation</th>\n",
       "      <th>City_Category</th>\n",
       "      <th>Marital_Status</th>\n",
       "      <th>Product_Category_1</th>\n",
       "      <th>Product_Category_2</th>\n",
       "      <th>Product_Category_3</th>\n",
       "      <th>Purchase</th>\n",
       "      <th>Stay_In_Current_City_Years_0</th>\n",
       "      <th>Stay_In_Current_City_Years_1</th>\n",
       "      <th>Stay_In_Current_City_Years_2</th>\n",
       "      <th>Stay_In_Current_City_Years_3</th>\n",
       "      <th>Stay_In_Current_City_Years_4</th>\n",
       "    </tr>\n",
       "  </thead>\n",
       "  <tbody>\n",
       "    <tr>\n",
       "      <td>0</td>\n",
       "      <td>1000001</td>\n",
       "      <td>69042</td>\n",
       "      <td>0</td>\n",
       "      <td>17</td>\n",
       "      <td>10</td>\n",
       "      <td>1</td>\n",
       "      <td>0</td>\n",
       "      <td>3</td>\n",
       "      <td>NaN</td>\n",
       "      <td>NaN</td>\n",
       "      <td>8370</td>\n",
       "      <td>0</td>\n",
       "      <td>0</td>\n",
       "      <td>1</td>\n",
       "      <td>0</td>\n",
       "      <td>0</td>\n",
       "    </tr>\n",
       "    <tr>\n",
       "      <td>1</td>\n",
       "      <td>1000001</td>\n",
       "      <td>248942</td>\n",
       "      <td>0</td>\n",
       "      <td>17</td>\n",
       "      <td>10</td>\n",
       "      <td>1</td>\n",
       "      <td>0</td>\n",
       "      <td>1</td>\n",
       "      <td>6.0</td>\n",
       "      <td>14.0</td>\n",
       "      <td>15200</td>\n",
       "      <td>0</td>\n",
       "      <td>0</td>\n",
       "      <td>1</td>\n",
       "      <td>0</td>\n",
       "      <td>0</td>\n",
       "    </tr>\n",
       "    <tr>\n",
       "      <td>2</td>\n",
       "      <td>1000001</td>\n",
       "      <td>87842</td>\n",
       "      <td>0</td>\n",
       "      <td>17</td>\n",
       "      <td>10</td>\n",
       "      <td>1</td>\n",
       "      <td>0</td>\n",
       "      <td>12</td>\n",
       "      <td>NaN</td>\n",
       "      <td>NaN</td>\n",
       "      <td>1422</td>\n",
       "      <td>0</td>\n",
       "      <td>0</td>\n",
       "      <td>1</td>\n",
       "      <td>0</td>\n",
       "      <td>0</td>\n",
       "    </tr>\n",
       "    <tr>\n",
       "      <td>3</td>\n",
       "      <td>1000001</td>\n",
       "      <td>85442</td>\n",
       "      <td>0</td>\n",
       "      <td>17</td>\n",
       "      <td>10</td>\n",
       "      <td>1</td>\n",
       "      <td>0</td>\n",
       "      <td>12</td>\n",
       "      <td>14.0</td>\n",
       "      <td>NaN</td>\n",
       "      <td>1057</td>\n",
       "      <td>0</td>\n",
       "      <td>0</td>\n",
       "      <td>1</td>\n",
       "      <td>0</td>\n",
       "      <td>0</td>\n",
       "    </tr>\n",
       "    <tr>\n",
       "      <td>4</td>\n",
       "      <td>1000002</td>\n",
       "      <td>285442</td>\n",
       "      <td>1</td>\n",
       "      <td>60</td>\n",
       "      <td>16</td>\n",
       "      <td>3</td>\n",
       "      <td>0</td>\n",
       "      <td>8</td>\n",
       "      <td>NaN</td>\n",
       "      <td>NaN</td>\n",
       "      <td>7969</td>\n",
       "      <td>0</td>\n",
       "      <td>0</td>\n",
       "      <td>0</td>\n",
       "      <td>0</td>\n",
       "      <td>1</td>\n",
       "    </tr>\n",
       "  </tbody>\n",
       "</table>\n",
       "</div>"
      ],
      "text/plain": [
       "   User_ID  Product_ID  Gender  Age  Occupation  City_Category  \\\n",
       "0  1000001       69042       0   17          10              1   \n",
       "1  1000001      248942       0   17          10              1   \n",
       "2  1000001       87842       0   17          10              1   \n",
       "3  1000001       85442       0   17          10              1   \n",
       "4  1000002      285442       1   60          16              3   \n",
       "\n",
       "   Marital_Status  Product_Category_1  Product_Category_2  Product_Category_3  \\\n",
       "0               0                   3                 NaN                 NaN   \n",
       "1               0                   1                 6.0                14.0   \n",
       "2               0                  12                 NaN                 NaN   \n",
       "3               0                  12                14.0                 NaN   \n",
       "4               0                   8                 NaN                 NaN   \n",
       "\n",
       "   Purchase  Stay_In_Current_City_Years_0  Stay_In_Current_City_Years_1  \\\n",
       "0      8370                             0                             0   \n",
       "1     15200                             0                             0   \n",
       "2      1422                             0                             0   \n",
       "3      1057                             0                             0   \n",
       "4      7969                             0                             0   \n",
       "\n",
       "   Stay_In_Current_City_Years_2  Stay_In_Current_City_Years_3  \\\n",
       "0                             1                             0   \n",
       "1                             1                             0   \n",
       "2                             1                             0   \n",
       "3                             1                             0   \n",
       "4                             0                             0   \n",
       "\n",
       "   Stay_In_Current_City_Years_4  \n",
       "0                             0  \n",
       "1                             0  \n",
       "2                             0  \n",
       "3                             0  \n",
       "4                             1  "
      ]
     },
     "execution_count": 43,
     "metadata": {},
     "output_type": "execute_result"
    }
   ],
   "source": [
    "train.head()"
   ]
  },
  {
   "cell_type": "code",
   "execution_count": 15,
   "metadata": {},
   "outputs": [],
   "source": [
    "test['Stay_In_Current_City_Years'] = le.fit_transform(test['Stay_In_Current_City_Years'])\n",
    "    \n",
    "#Dummy Variables:\n",
    "test = pd.get_dummies(test, columns=['Stay_In_Current_City_Years'])\n"
   ]
  },
  {
   "cell_type": "code",
   "execution_count": 47,
   "metadata": {
    "scrolled": true
   },
   "outputs": [
    {
     "data": {
      "text/html": [
       "<div>\n",
       "<style scoped>\n",
       "    .dataframe tbody tr th:only-of-type {\n",
       "        vertical-align: middle;\n",
       "    }\n",
       "\n",
       "    .dataframe tbody tr th {\n",
       "        vertical-align: top;\n",
       "    }\n",
       "\n",
       "    .dataframe thead th {\n",
       "        text-align: right;\n",
       "    }\n",
       "</style>\n",
       "<table border=\"1\" class=\"dataframe\">\n",
       "  <thead>\n",
       "    <tr style=\"text-align: right;\">\n",
       "      <th></th>\n",
       "      <th>User_ID</th>\n",
       "      <th>Product_ID</th>\n",
       "      <th>Gender</th>\n",
       "      <th>Age</th>\n",
       "      <th>Occupation</th>\n",
       "      <th>City_Category</th>\n",
       "      <th>Marital_Status</th>\n",
       "      <th>Product_Category_1</th>\n",
       "      <th>Product_Category_2</th>\n",
       "      <th>Product_Category_3</th>\n",
       "      <th>Purchase</th>\n",
       "      <th>Stay_In_Current_City_Years_0</th>\n",
       "      <th>Stay_In_Current_City_Years_1</th>\n",
       "      <th>Stay_In_Current_City_Years_2</th>\n",
       "      <th>Stay_In_Current_City_Years_3</th>\n",
       "      <th>Stay_In_Current_City_Years_4</th>\n",
       "    </tr>\n",
       "  </thead>\n",
       "  <tbody>\n",
       "    <tr>\n",
       "      <td>User_ID</td>\n",
       "      <td>1.000000</td>\n",
       "      <td>-0.017619</td>\n",
       "      <td>-0.033474</td>\n",
       "      <td>0.041178</td>\n",
       "      <td>-0.023971</td>\n",
       "      <td>0.022859</td>\n",
       "      <td>0.020443</td>\n",
       "      <td>0.003825</td>\n",
       "      <td>0.001529</td>\n",
       "      <td>0.003419</td>\n",
       "      <td>0.004716</td>\n",
       "      <td>0.006495</td>\n",
       "      <td>0.019574</td>\n",
       "      <td>0.018551</td>\n",
       "      <td>-0.030953</td>\n",
       "      <td>-0.019567</td>\n",
       "    </tr>\n",
       "    <tr>\n",
       "      <td>Product_ID</td>\n",
       "      <td>-0.017619</td>\n",
       "      <td>1.000000</td>\n",
       "      <td>0.021084</td>\n",
       "      <td>0.029461</td>\n",
       "      <td>0.009344</td>\n",
       "      <td>0.010162</td>\n",
       "      <td>0.013194</td>\n",
       "      <td>0.090193</td>\n",
       "      <td>0.034114</td>\n",
       "      <td>0.044938</td>\n",
       "      <td>-0.103961</td>\n",
       "      <td>0.001330</td>\n",
       "      <td>-0.000236</td>\n",
       "      <td>0.003490</td>\n",
       "      <td>-0.000305</td>\n",
       "      <td>-0.004384</td>\n",
       "    </tr>\n",
       "    <tr>\n",
       "      <td>Gender</td>\n",
       "      <td>-0.033474</td>\n",
       "      <td>0.021084</td>\n",
       "      <td>1.000000</td>\n",
       "      <td>-0.002576</td>\n",
       "      <td>0.117291</td>\n",
       "      <td>-0.004515</td>\n",
       "      <td>-0.011603</td>\n",
       "      <td>-0.045594</td>\n",
       "      <td>-0.018591</td>\n",
       "      <td>0.028069</td>\n",
       "      <td>0.060346</td>\n",
       "      <td>0.016094</td>\n",
       "      <td>-0.030400</td>\n",
       "      <td>0.008806</td>\n",
       "      <td>-0.011080</td>\n",
       "      <td>0.027125</td>\n",
       "    </tr>\n",
       "    <tr>\n",
       "      <td>Age</td>\n",
       "      <td>0.041178</td>\n",
       "      <td>0.029461</td>\n",
       "      <td>-0.002576</td>\n",
       "      <td>1.000000</td>\n",
       "      <td>0.097473</td>\n",
       "      <td>0.108706</td>\n",
       "      <td>0.309509</td>\n",
       "      <td>0.060272</td>\n",
       "      <td>0.055623</td>\n",
       "      <td>0.057807</td>\n",
       "      <td>0.016345</td>\n",
       "      <td>-0.026977</td>\n",
       "      <td>0.037838</td>\n",
       "      <td>-0.018201</td>\n",
       "      <td>-0.003961</td>\n",
       "      <td>-0.000779</td>\n",
       "    </tr>\n",
       "    <tr>\n",
       "      <td>Occupation</td>\n",
       "      <td>-0.023971</td>\n",
       "      <td>0.009344</td>\n",
       "      <td>0.117291</td>\n",
       "      <td>0.097473</td>\n",
       "      <td>1.000000</td>\n",
       "      <td>0.034479</td>\n",
       "      <td>0.024280</td>\n",
       "      <td>-0.007618</td>\n",
       "      <td>-0.000384</td>\n",
       "      <td>0.013263</td>\n",
       "      <td>0.020833</td>\n",
       "      <td>-0.026055</td>\n",
       "      <td>-0.002092</td>\n",
       "      <td>-0.012716</td>\n",
       "      <td>0.025974</td>\n",
       "      <td>0.013905</td>\n",
       "    </tr>\n",
       "    <tr>\n",
       "      <td>City_Category</td>\n",
       "      <td>0.022859</td>\n",
       "      <td>0.010162</td>\n",
       "      <td>-0.004515</td>\n",
       "      <td>0.108706</td>\n",
       "      <td>0.034479</td>\n",
       "      <td>1.000000</td>\n",
       "      <td>0.039790</td>\n",
       "      <td>-0.014364</td>\n",
       "      <td>-0.011822</td>\n",
       "      <td>-0.002347</td>\n",
       "      <td>0.061914</td>\n",
       "      <td>-0.040678</td>\n",
       "      <td>0.017688</td>\n",
       "      <td>0.009208</td>\n",
       "      <td>-0.006805</td>\n",
       "      <td>0.012357</td>\n",
       "    </tr>\n",
       "    <tr>\n",
       "      <td>Marital_Status</td>\n",
       "      <td>0.020443</td>\n",
       "      <td>0.013194</td>\n",
       "      <td>-0.011603</td>\n",
       "      <td>0.309509</td>\n",
       "      <td>0.024280</td>\n",
       "      <td>0.039790</td>\n",
       "      <td>1.000000</td>\n",
       "      <td>0.019888</td>\n",
       "      <td>0.015138</td>\n",
       "      <td>0.019473</td>\n",
       "      <td>-0.000463</td>\n",
       "      <td>-0.010673</td>\n",
       "      <td>0.028831</td>\n",
       "      <td>-0.006474</td>\n",
       "      <td>-0.013635</td>\n",
       "      <td>-0.006782</td>\n",
       "    </tr>\n",
       "    <tr>\n",
       "      <td>Product_Category_1</td>\n",
       "      <td>0.003825</td>\n",
       "      <td>0.090193</td>\n",
       "      <td>-0.045594</td>\n",
       "      <td>0.060272</td>\n",
       "      <td>-0.007618</td>\n",
       "      <td>-0.014364</td>\n",
       "      <td>0.019888</td>\n",
       "      <td>1.000000</td>\n",
       "      <td>0.540583</td>\n",
       "      <td>0.229678</td>\n",
       "      <td>-0.343703</td>\n",
       "      <td>0.004576</td>\n",
       "      <td>0.006121</td>\n",
       "      <td>-0.007000</td>\n",
       "      <td>-0.010995</td>\n",
       "      <td>0.006624</td>\n",
       "    </tr>\n",
       "    <tr>\n",
       "      <td>Product_Category_2</td>\n",
       "      <td>0.001529</td>\n",
       "      <td>0.034114</td>\n",
       "      <td>-0.018591</td>\n",
       "      <td>0.055623</td>\n",
       "      <td>-0.000384</td>\n",
       "      <td>-0.011822</td>\n",
       "      <td>0.015138</td>\n",
       "      <td>0.540583</td>\n",
       "      <td>1.000000</td>\n",
       "      <td>0.543649</td>\n",
       "      <td>-0.209918</td>\n",
       "      <td>0.001125</td>\n",
       "      <td>0.005690</td>\n",
       "      <td>-0.006559</td>\n",
       "      <td>-0.006437</td>\n",
       "      <td>0.005264</td>\n",
       "    </tr>\n",
       "    <tr>\n",
       "      <td>Product_Category_3</td>\n",
       "      <td>0.003419</td>\n",
       "      <td>0.044938</td>\n",
       "      <td>0.028069</td>\n",
       "      <td>0.057807</td>\n",
       "      <td>0.013263</td>\n",
       "      <td>-0.002347</td>\n",
       "      <td>0.019473</td>\n",
       "      <td>0.229678</td>\n",
       "      <td>0.543649</td>\n",
       "      <td>1.000000</td>\n",
       "      <td>-0.022006</td>\n",
       "      <td>-0.000287</td>\n",
       "      <td>0.002027</td>\n",
       "      <td>-0.006131</td>\n",
       "      <td>-0.001044</td>\n",
       "      <td>0.005370</td>\n",
       "    </tr>\n",
       "    <tr>\n",
       "      <td>Purchase</td>\n",
       "      <td>0.004716</td>\n",
       "      <td>-0.103961</td>\n",
       "      <td>0.060346</td>\n",
       "      <td>0.016345</td>\n",
       "      <td>0.020833</td>\n",
       "      <td>0.061914</td>\n",
       "      <td>-0.000463</td>\n",
       "      <td>-0.343703</td>\n",
       "      <td>-0.209918</td>\n",
       "      <td>-0.022006</td>\n",
       "      <td>1.000000</td>\n",
       "      <td>-0.006605</td>\n",
       "      <td>-0.002030</td>\n",
       "      <td>0.005358</td>\n",
       "      <td>0.002090</td>\n",
       "      <td>0.000988</td>\n",
       "    </tr>\n",
       "    <tr>\n",
       "      <td>Stay_In_Current_City_Years_0</td>\n",
       "      <td>0.006495</td>\n",
       "      <td>0.001330</td>\n",
       "      <td>0.016094</td>\n",
       "      <td>-0.026977</td>\n",
       "      <td>-0.026055</td>\n",
       "      <td>-0.040678</td>\n",
       "      <td>-0.010673</td>\n",
       "      <td>0.004576</td>\n",
       "      <td>0.001125</td>\n",
       "      <td>-0.000287</td>\n",
       "      <td>-0.006605</td>\n",
       "      <td>1.000000</td>\n",
       "      <td>-0.291711</td>\n",
       "      <td>-0.188509</td>\n",
       "      <td>-0.181025</td>\n",
       "      <td>-0.168752</td>\n",
       "    </tr>\n",
       "    <tr>\n",
       "      <td>Stay_In_Current_City_Years_1</td>\n",
       "      <td>0.019574</td>\n",
       "      <td>-0.000236</td>\n",
       "      <td>-0.030400</td>\n",
       "      <td>0.037838</td>\n",
       "      <td>-0.002092</td>\n",
       "      <td>0.017688</td>\n",
       "      <td>0.028831</td>\n",
       "      <td>0.006121</td>\n",
       "      <td>0.005690</td>\n",
       "      <td>0.002027</td>\n",
       "      <td>-0.002030</td>\n",
       "      <td>-0.291711</td>\n",
       "      <td>1.000000</td>\n",
       "      <td>-0.351584</td>\n",
       "      <td>-0.337625</td>\n",
       "      <td>-0.314736</td>\n",
       "    </tr>\n",
       "    <tr>\n",
       "      <td>Stay_In_Current_City_Years_2</td>\n",
       "      <td>0.018551</td>\n",
       "      <td>0.003490</td>\n",
       "      <td>0.008806</td>\n",
       "      <td>-0.018201</td>\n",
       "      <td>-0.012716</td>\n",
       "      <td>0.009208</td>\n",
       "      <td>-0.006474</td>\n",
       "      <td>-0.007000</td>\n",
       "      <td>-0.006559</td>\n",
       "      <td>-0.006131</td>\n",
       "      <td>0.005358</td>\n",
       "      <td>-0.188509</td>\n",
       "      <td>-0.351584</td>\n",
       "      <td>1.000000</td>\n",
       "      <td>-0.218180</td>\n",
       "      <td>-0.203389</td>\n",
       "    </tr>\n",
       "    <tr>\n",
       "      <td>Stay_In_Current_City_Years_3</td>\n",
       "      <td>-0.030953</td>\n",
       "      <td>-0.000305</td>\n",
       "      <td>-0.011080</td>\n",
       "      <td>-0.003961</td>\n",
       "      <td>0.025974</td>\n",
       "      <td>-0.006805</td>\n",
       "      <td>-0.013635</td>\n",
       "      <td>-0.010995</td>\n",
       "      <td>-0.006437</td>\n",
       "      <td>-0.001044</td>\n",
       "      <td>0.002090</td>\n",
       "      <td>-0.181025</td>\n",
       "      <td>-0.337625</td>\n",
       "      <td>-0.218180</td>\n",
       "      <td>1.000000</td>\n",
       "      <td>-0.195314</td>\n",
       "    </tr>\n",
       "    <tr>\n",
       "      <td>Stay_In_Current_City_Years_4</td>\n",
       "      <td>-0.019567</td>\n",
       "      <td>-0.004384</td>\n",
       "      <td>0.027125</td>\n",
       "      <td>-0.000779</td>\n",
       "      <td>0.013905</td>\n",
       "      <td>0.012357</td>\n",
       "      <td>-0.006782</td>\n",
       "      <td>0.006624</td>\n",
       "      <td>0.005264</td>\n",
       "      <td>0.005370</td>\n",
       "      <td>0.000988</td>\n",
       "      <td>-0.168752</td>\n",
       "      <td>-0.314736</td>\n",
       "      <td>-0.203389</td>\n",
       "      <td>-0.195314</td>\n",
       "      <td>1.000000</td>\n",
       "    </tr>\n",
       "  </tbody>\n",
       "</table>\n",
       "</div>"
      ],
      "text/plain": [
       "                               User_ID  Product_ID    Gender       Age  \\\n",
       "User_ID                       1.000000   -0.017619 -0.033474  0.041178   \n",
       "Product_ID                   -0.017619    1.000000  0.021084  0.029461   \n",
       "Gender                       -0.033474    0.021084  1.000000 -0.002576   \n",
       "Age                           0.041178    0.029461 -0.002576  1.000000   \n",
       "Occupation                   -0.023971    0.009344  0.117291  0.097473   \n",
       "City_Category                 0.022859    0.010162 -0.004515  0.108706   \n",
       "Marital_Status                0.020443    0.013194 -0.011603  0.309509   \n",
       "Product_Category_1            0.003825    0.090193 -0.045594  0.060272   \n",
       "Product_Category_2            0.001529    0.034114 -0.018591  0.055623   \n",
       "Product_Category_3            0.003419    0.044938  0.028069  0.057807   \n",
       "Purchase                      0.004716   -0.103961  0.060346  0.016345   \n",
       "Stay_In_Current_City_Years_0  0.006495    0.001330  0.016094 -0.026977   \n",
       "Stay_In_Current_City_Years_1  0.019574   -0.000236 -0.030400  0.037838   \n",
       "Stay_In_Current_City_Years_2  0.018551    0.003490  0.008806 -0.018201   \n",
       "Stay_In_Current_City_Years_3 -0.030953   -0.000305 -0.011080 -0.003961   \n",
       "Stay_In_Current_City_Years_4 -0.019567   -0.004384  0.027125 -0.000779   \n",
       "\n",
       "                              Occupation  City_Category  Marital_Status  \\\n",
       "User_ID                        -0.023971       0.022859        0.020443   \n",
       "Product_ID                      0.009344       0.010162        0.013194   \n",
       "Gender                          0.117291      -0.004515       -0.011603   \n",
       "Age                             0.097473       0.108706        0.309509   \n",
       "Occupation                      1.000000       0.034479        0.024280   \n",
       "City_Category                   0.034479       1.000000        0.039790   \n",
       "Marital_Status                  0.024280       0.039790        1.000000   \n",
       "Product_Category_1             -0.007618      -0.014364        0.019888   \n",
       "Product_Category_2             -0.000384      -0.011822        0.015138   \n",
       "Product_Category_3              0.013263      -0.002347        0.019473   \n",
       "Purchase                        0.020833       0.061914       -0.000463   \n",
       "Stay_In_Current_City_Years_0   -0.026055      -0.040678       -0.010673   \n",
       "Stay_In_Current_City_Years_1   -0.002092       0.017688        0.028831   \n",
       "Stay_In_Current_City_Years_2   -0.012716       0.009208       -0.006474   \n",
       "Stay_In_Current_City_Years_3    0.025974      -0.006805       -0.013635   \n",
       "Stay_In_Current_City_Years_4    0.013905       0.012357       -0.006782   \n",
       "\n",
       "                              Product_Category_1  Product_Category_2  \\\n",
       "User_ID                                 0.003825            0.001529   \n",
       "Product_ID                              0.090193            0.034114   \n",
       "Gender                                 -0.045594           -0.018591   \n",
       "Age                                     0.060272            0.055623   \n",
       "Occupation                             -0.007618           -0.000384   \n",
       "City_Category                          -0.014364           -0.011822   \n",
       "Marital_Status                          0.019888            0.015138   \n",
       "Product_Category_1                      1.000000            0.540583   \n",
       "Product_Category_2                      0.540583            1.000000   \n",
       "Product_Category_3                      0.229678            0.543649   \n",
       "Purchase                               -0.343703           -0.209918   \n",
       "Stay_In_Current_City_Years_0            0.004576            0.001125   \n",
       "Stay_In_Current_City_Years_1            0.006121            0.005690   \n",
       "Stay_In_Current_City_Years_2           -0.007000           -0.006559   \n",
       "Stay_In_Current_City_Years_3           -0.010995           -0.006437   \n",
       "Stay_In_Current_City_Years_4            0.006624            0.005264   \n",
       "\n",
       "                              Product_Category_3  Purchase  \\\n",
       "User_ID                                 0.003419  0.004716   \n",
       "Product_ID                              0.044938 -0.103961   \n",
       "Gender                                  0.028069  0.060346   \n",
       "Age                                     0.057807  0.016345   \n",
       "Occupation                              0.013263  0.020833   \n",
       "City_Category                          -0.002347  0.061914   \n",
       "Marital_Status                          0.019473 -0.000463   \n",
       "Product_Category_1                      0.229678 -0.343703   \n",
       "Product_Category_2                      0.543649 -0.209918   \n",
       "Product_Category_3                      1.000000 -0.022006   \n",
       "Purchase                               -0.022006  1.000000   \n",
       "Stay_In_Current_City_Years_0           -0.000287 -0.006605   \n",
       "Stay_In_Current_City_Years_1            0.002027 -0.002030   \n",
       "Stay_In_Current_City_Years_2           -0.006131  0.005358   \n",
       "Stay_In_Current_City_Years_3           -0.001044  0.002090   \n",
       "Stay_In_Current_City_Years_4            0.005370  0.000988   \n",
       "\n",
       "                              Stay_In_Current_City_Years_0  \\\n",
       "User_ID                                           0.006495   \n",
       "Product_ID                                        0.001330   \n",
       "Gender                                            0.016094   \n",
       "Age                                              -0.026977   \n",
       "Occupation                                       -0.026055   \n",
       "City_Category                                    -0.040678   \n",
       "Marital_Status                                   -0.010673   \n",
       "Product_Category_1                                0.004576   \n",
       "Product_Category_2                                0.001125   \n",
       "Product_Category_3                               -0.000287   \n",
       "Purchase                                         -0.006605   \n",
       "Stay_In_Current_City_Years_0                      1.000000   \n",
       "Stay_In_Current_City_Years_1                     -0.291711   \n",
       "Stay_In_Current_City_Years_2                     -0.188509   \n",
       "Stay_In_Current_City_Years_3                     -0.181025   \n",
       "Stay_In_Current_City_Years_4                     -0.168752   \n",
       "\n",
       "                              Stay_In_Current_City_Years_1  \\\n",
       "User_ID                                           0.019574   \n",
       "Product_ID                                       -0.000236   \n",
       "Gender                                           -0.030400   \n",
       "Age                                               0.037838   \n",
       "Occupation                                       -0.002092   \n",
       "City_Category                                     0.017688   \n",
       "Marital_Status                                    0.028831   \n",
       "Product_Category_1                                0.006121   \n",
       "Product_Category_2                                0.005690   \n",
       "Product_Category_3                                0.002027   \n",
       "Purchase                                         -0.002030   \n",
       "Stay_In_Current_City_Years_0                     -0.291711   \n",
       "Stay_In_Current_City_Years_1                      1.000000   \n",
       "Stay_In_Current_City_Years_2                     -0.351584   \n",
       "Stay_In_Current_City_Years_3                     -0.337625   \n",
       "Stay_In_Current_City_Years_4                     -0.314736   \n",
       "\n",
       "                              Stay_In_Current_City_Years_2  \\\n",
       "User_ID                                           0.018551   \n",
       "Product_ID                                        0.003490   \n",
       "Gender                                            0.008806   \n",
       "Age                                              -0.018201   \n",
       "Occupation                                       -0.012716   \n",
       "City_Category                                     0.009208   \n",
       "Marital_Status                                   -0.006474   \n",
       "Product_Category_1                               -0.007000   \n",
       "Product_Category_2                               -0.006559   \n",
       "Product_Category_3                               -0.006131   \n",
       "Purchase                                          0.005358   \n",
       "Stay_In_Current_City_Years_0                     -0.188509   \n",
       "Stay_In_Current_City_Years_1                     -0.351584   \n",
       "Stay_In_Current_City_Years_2                      1.000000   \n",
       "Stay_In_Current_City_Years_3                     -0.218180   \n",
       "Stay_In_Current_City_Years_4                     -0.203389   \n",
       "\n",
       "                              Stay_In_Current_City_Years_3  \\\n",
       "User_ID                                          -0.030953   \n",
       "Product_ID                                       -0.000305   \n",
       "Gender                                           -0.011080   \n",
       "Age                                              -0.003961   \n",
       "Occupation                                        0.025974   \n",
       "City_Category                                    -0.006805   \n",
       "Marital_Status                                   -0.013635   \n",
       "Product_Category_1                               -0.010995   \n",
       "Product_Category_2                               -0.006437   \n",
       "Product_Category_3                               -0.001044   \n",
       "Purchase                                          0.002090   \n",
       "Stay_In_Current_City_Years_0                     -0.181025   \n",
       "Stay_In_Current_City_Years_1                     -0.337625   \n",
       "Stay_In_Current_City_Years_2                     -0.218180   \n",
       "Stay_In_Current_City_Years_3                      1.000000   \n",
       "Stay_In_Current_City_Years_4                     -0.195314   \n",
       "\n",
       "                              Stay_In_Current_City_Years_4  \n",
       "User_ID                                          -0.019567  \n",
       "Product_ID                                       -0.004384  \n",
       "Gender                                            0.027125  \n",
       "Age                                              -0.000779  \n",
       "Occupation                                        0.013905  \n",
       "City_Category                                     0.012357  \n",
       "Marital_Status                                   -0.006782  \n",
       "Product_Category_1                                0.006624  \n",
       "Product_Category_2                                0.005264  \n",
       "Product_Category_3                                0.005370  \n",
       "Purchase                                          0.000988  \n",
       "Stay_In_Current_City_Years_0                     -0.168752  \n",
       "Stay_In_Current_City_Years_1                     -0.314736  \n",
       "Stay_In_Current_City_Years_2                     -0.203389  \n",
       "Stay_In_Current_City_Years_3                     -0.195314  \n",
       "Stay_In_Current_City_Years_4                      1.000000  "
      ]
     },
     "execution_count": 47,
     "metadata": {},
     "output_type": "execute_result"
    }
   ],
   "source": [
    "train.corr()"
   ]
  },
  {
   "cell_type": "code",
   "execution_count": 16,
   "metadata": {},
   "outputs": [],
   "source": [
    "train.Product_Category_2=train.Product_Category_2.fillna(0)"
   ]
  },
  {
   "cell_type": "code",
   "execution_count": 17,
   "metadata": {},
   "outputs": [],
   "source": [
    "test.Product_Category_2=test.Product_Category_2.fillna(0)"
   ]
  },
  {
   "cell_type": "code",
   "execution_count": null,
   "metadata": {},
   "outputs": [],
   "source": []
  },
  {
   "cell_type": "code",
   "execution_count": 18,
   "metadata": {},
   "outputs": [],
   "source": [
    "train.Product_Category_3=train.Product_Category_3.fillna(0)"
   ]
  },
  {
   "cell_type": "code",
   "execution_count": 19,
   "metadata": {},
   "outputs": [],
   "source": [
    "test.Product_Category_3=test.Product_Category_3.fillna(0)"
   ]
  },
  {
   "cell_type": "code",
   "execution_count": 22,
   "metadata": {},
   "outputs": [
    {
     "name": "stdout",
     "output_type": "stream",
     "text": [
      "<class 'pandas.core.frame.DataFrame'>\n",
      "RangeIndex: 550068 entries, 0 to 550067\n",
      "Data columns (total 16 columns):\n",
      "User_ID                         550068 non-null int64\n",
      "Product_ID                      550068 non-null int32\n",
      "Gender                          550068 non-null int64\n",
      "Age                             550068 non-null int64\n",
      "Occupation                      550068 non-null int64\n",
      "City_Category                   550068 non-null int64\n",
      "Marital_Status                  550068 non-null int64\n",
      "Product_Category_1              550068 non-null int64\n",
      "Product_Category_2              550068 non-null float64\n",
      "Product_Category_3              550068 non-null float64\n",
      "Purchase                        550068 non-null int64\n",
      "Stay_In_Current_City_Years_0    550068 non-null uint8\n",
      "Stay_In_Current_City_Years_1    550068 non-null uint8\n",
      "Stay_In_Current_City_Years_2    550068 non-null uint8\n",
      "Stay_In_Current_City_Years_3    550068 non-null uint8\n",
      "Stay_In_Current_City_Years_4    550068 non-null uint8\n",
      "dtypes: float64(2), int32(1), int64(8), uint8(5)\n",
      "memory usage: 46.7 MB\n"
     ]
    }
   ],
   "source": [
    "train.info()"
   ]
  },
  {
   "cell_type": "code",
   "execution_count": 20,
   "metadata": {},
   "outputs": [
    {
     "data": {
      "text/plain": [
       "0.1    3540.0\n",
       "0.2    5266.0\n",
       "0.3    6136.0\n",
       "0.4    7150.0\n",
       "Name: Purchase, dtype: float64"
      ]
     },
     "execution_count": 20,
     "metadata": {},
     "output_type": "execute_result"
    }
   ],
   "source": [
    "train.Purchase.quantile([0.1,0.2,0.3,0.4])"
   ]
  },
  {
   "cell_type": "code",
   "execution_count": 21,
   "metadata": {},
   "outputs": [
    {
     "data": {
      "text/plain": [
       "0.97    19628.00\n",
       "0.98    20202.66\n",
       "0.99    20665.00\n",
       "1.00    23961.00\n",
       "Name: Purchase, dtype: float64"
      ]
     },
     "execution_count": 21,
     "metadata": {},
     "output_type": "execute_result"
    }
   ],
   "source": [
    "train.Purchase.quantile([0.97,0.98,0.99,1.0])"
   ]
  },
  {
   "cell_type": "code",
   "execution_count": 23,
   "metadata": {},
   "outputs": [],
   "source": [
    "train.drop(train[train[\"Purchase\"]>20665].index,axis=0,inplace=True)"
   ]
  },
  {
   "cell_type": "code",
   "execution_count": null,
   "metadata": {},
   "outputs": [],
   "source": []
  },
  {
   "cell_type": "code",
   "execution_count": 88,
   "metadata": {},
   "outputs": [
    {
     "name": "stdout",
     "output_type": "stream",
     "text": [
      "<class 'pandas.core.frame.DataFrame'>\n",
      "Int64Index: 544576 entries, 0 to 550067\n",
      "Data columns (total 16 columns):\n",
      "User_ID                         544576 non-null int64\n",
      "Product_ID                      544576 non-null int32\n",
      "Gender                          544576 non-null int64\n",
      "Age                             544576 non-null int64\n",
      "Occupation                      544576 non-null int64\n",
      "City_Category                   544576 non-null int64\n",
      "Marital_Status                  544576 non-null int64\n",
      "Product_Category_1              544576 non-null int64\n",
      "Product_Category_2              544576 non-null float64\n",
      "Product_Category_3              544576 non-null float64\n",
      "Purchase                        544576 non-null int64\n",
      "Stay_In_Current_City_Years_0    544576 non-null uint8\n",
      "Stay_In_Current_City_Years_1    544576 non-null uint8\n",
      "Stay_In_Current_City_Years_2    544576 non-null uint8\n",
      "Stay_In_Current_City_Years_3    544576 non-null uint8\n",
      "Stay_In_Current_City_Years_4    544576 non-null uint8\n",
      "dtypes: float64(2), int32(1), int64(8), uint8(5)\n",
      "memory usage: 50.4 MB\n"
     ]
    }
   ],
   "source": [
    "train.info()"
   ]
  },
  {
   "cell_type": "code",
   "execution_count": null,
   "metadata": {},
   "outputs": [],
   "source": []
  },
  {
   "cell_type": "code",
   "execution_count": 31,
   "metadata": {},
   "outputs": [],
   "source": [
    "y_train = train[\"Purchase\"]\n",
    "X_train = train.drop([\"Purchase\"], axis=1)\n",
    "\n",
    "X_test = test"
   ]
  },
  {
   "cell_type": "code",
   "execution_count": 26,
   "metadata": {},
   "outputs": [],
   "source": [
    "from sklearn.model_selection import KFold, cross_val_score\n",
    "from sklearn.metrics import mean_squared_error\n",
    "from math import sqrt\n",
    "from sklearn.ensemble import RandomForestRegressor\n",
    "import xgboost as xgb"
   ]
  },
  {
   "cell_type": "code",
   "execution_count": 32,
   "metadata": {},
   "outputs": [
    {
     "name": "stderr",
     "output_type": "stream",
     "text": [
      "C:\\Users\\admin2\\Anaconda3\\lib\\site-packages\\sklearn\\ensemble\\forest.py:245: FutureWarning: The default value of n_estimators will change from 10 in version 0.20 to 100 in 0.22.\n",
      "  \"10 in version 0.20 to 100 in 0.22.\", FutureWarning)\n",
      "C:\\Users\\admin2\\Anaconda3\\lib\\site-packages\\sklearn\\ensemble\\forest.py:245: FutureWarning: The default value of n_estimators will change from 10 in version 0.20 to 100 in 0.22.\n",
      "  \"10 in version 0.20 to 100 in 0.22.\", FutureWarning)\n",
      "C:\\Users\\admin2\\Anaconda3\\lib\\site-packages\\sklearn\\ensemble\\forest.py:245: FutureWarning: The default value of n_estimators will change from 10 in version 0.20 to 100 in 0.22.\n",
      "  \"10 in version 0.20 to 100 in 0.22.\", FutureWarning)\n",
      "C:\\Users\\admin2\\Anaconda3\\lib\\site-packages\\sklearn\\ensemble\\forest.py:245: FutureWarning: The default value of n_estimators will change from 10 in version 0.20 to 100 in 0.22.\n",
      "  \"10 in version 0.20 to 100 in 0.22.\", FutureWarning)\n",
      "C:\\Users\\admin2\\Anaconda3\\lib\\site-packages\\sklearn\\ensemble\\forest.py:245: FutureWarning: The default value of n_estimators will change from 10 in version 0.20 to 100 in 0.22.\n",
      "  \"10 in version 0.20 to 100 in 0.22.\", FutureWarning)\n"
     ]
    },
    {
     "data": {
      "text/plain": [
       "-7899133.113094118"
      ]
     },
     "execution_count": 32,
     "metadata": {},
     "output_type": "execute_result"
    }
   ],
   "source": [
    "kf = KFold(n_splits=5)\n",
    "rf_model = RandomForestRegressor(random_state=7)\n",
    "scores = cross_val_score(rf_model, X_train, y_train, scoring=\"neg_mean_squared_error\", cv=kf)\n",
    "x = scores.mean()\n",
    "x"
   ]
  },
  {
   "cell_type": "code",
   "execution_count": 33,
   "metadata": {},
   "outputs": [
    {
     "data": {
      "text/plain": [
       "2810.5396480203085"
      ]
     },
     "execution_count": 33,
     "metadata": {},
     "output_type": "execute_result"
    }
   ],
   "source": [
    "sqrt(-x)\n"
   ]
  },
  {
   "cell_type": "code",
   "execution_count": 27,
   "metadata": {},
   "outputs": [],
   "source": [
    "from sklearn import metrics\n"
   ]
  },
  {
   "cell_type": "code",
   "execution_count": 42,
   "metadata": {},
   "outputs": [],
   "source": [
    "import xgboost as xgb\n",
    "\n",
    "model = xgb.XGBRegressor(n_estimator=1000, max_depth=12, random_state=13, eta=0.2, n_jobs=-1)\n",
    "model.fit(X_train, y_train)\n",
    "y_pred = model.predict(X_train)"
   ]
  },
  {
   "cell_type": "code",
   "execution_count": 43,
   "metadata": {},
   "outputs": [],
   "source": [
    "y_pred = model.predict(X_train)"
   ]
  },
  {
   "cell_type": "code",
   "execution_count": 37,
   "metadata": {},
   "outputs": [],
   "source": [
    "from sklearn.model_selection import GridSearchCV,RandomizedSearchCV\n"
   ]
  },
  {
   "cell_type": "code",
   "execution_count": 35,
   "metadata": {},
   "outputs": [],
   "source": [
    "params = {\n",
    "    'n_estimators': n_estimators,\n",
    "    'max_depth':max_depth,\n",
    "    'learning_rate':learning_rate,\n",
    "    'min_child_weight':min_child_weight,\n",
    "    'booster':booster,\n",
    "    'base_score':base_score\n",
    "    }"
   ]
  },
  {
   "cell_type": "code",
   "execution_count": 34,
   "metadata": {},
   "outputs": [],
   "source": [
    "n_estimators = [100, 500, 900, 1100, 1500]\n",
    "max_depth = [2, 3, 5, 10, 15]\n",
    "booster=['gbtree','gblinear']\n",
    "learning_rate=[0.05,0.1,0.15,0.20]\n",
    "min_child_weight=[1,2,3,4]\n",
    "base_score=[0.25,0.5,0.75,1]"
   ]
  },
  {
   "cell_type": "code",
   "execution_count": 123,
   "metadata": {},
   "outputs": [],
   "source": [
    "random_cv = RandomizedSearchCV(estimator=xgb.XGBRegressor(),\n",
    "            param_distributions=params,\n",
    "            cv=kf, n_iter=5,\n",
    "            scoring = 'neg_mean_squared_error',n_jobs = -1,\n",
    "            verbose = 3, \n",
    "            return_train_score = True,\n",
    "            )"
   ]
  },
  {
   "cell_type": "code",
   "execution_count": null,
   "metadata": {},
   "outputs": [
    {
     "name": "stdout",
     "output_type": "stream",
     "text": [
      "Fitting 5 folds for each of 5 candidates, totalling 25 fits\n"
     ]
    },
    {
     "name": "stderr",
     "output_type": "stream",
     "text": [
      "[Parallel(n_jobs=-1)]: Using backend LokyBackend with 4 concurrent workers.\n"
     ]
    }
   ],
   "source": [
    "random_cv.fit(X_train,y_train)\n"
   ]
  },
  {
   "cell_type": "code",
   "execution_count": 40,
   "metadata": {},
   "outputs": [],
   "source": [
    "grid_search=GridSearchCV(estimator=xgb.XGBRegressor(),param_grid=params,\n",
    "            cv=5,\n",
    "            scoring = 'neg_mean_squared_error',n_jobs = -1,\n",
    "            verbose = 3, \n",
    "            return_train_score = True,\n",
    "            )"
   ]
  },
  {
   "cell_type": "code",
   "execution_count": 44,
   "metadata": {},
   "outputs": [
    {
     "name": "stdout",
     "output_type": "stream",
     "text": [
      "RMSE: 2037.4411312095053\n"
     ]
    }
   ],
   "source": [
    "print('RMSE:', np.sqrt(metrics.mean_squared_error(y_train, y_pred)))\n"
   ]
  },
  {
   "cell_type": "code",
   "execution_count": 45,
   "metadata": {},
   "outputs": [],
   "source": [
    "pred1=model.predict(X_test)"
   ]
  },
  {
   "cell_type": "code",
   "execution_count": 46,
   "metadata": {},
   "outputs": [],
   "source": [
    "pred=pd.DataFrame(pred1)"
   ]
  },
  {
   "cell_type": "code",
   "execution_count": 47,
   "metadata": {},
   "outputs": [],
   "source": [
    "sm=pd.read_csv(\"submit.csv\")"
   ]
  },
  {
   "cell_type": "code",
   "execution_count": 48,
   "metadata": {},
   "outputs": [],
   "source": [
    "submit=pd.concat([pred,sm.User_ID,sm.Product_ID],axis=1)"
   ]
  },
  {
   "cell_type": "code",
   "execution_count": 49,
   "metadata": {},
   "outputs": [],
   "source": [
    "submit.columns=[\"Purchase\",\"User_ID\",\"Product_ID\"]"
   ]
  },
  {
   "cell_type": "code",
   "execution_count": 50,
   "metadata": {},
   "outputs": [],
   "source": [
    "submit.Purchase=submit.Purchase.round().astype(int)"
   ]
  },
  {
   "cell_type": "code",
   "execution_count": 51,
   "metadata": {},
   "outputs": [],
   "source": [
    "submit.to_csv(\"Submission5.csv\",index=False)"
   ]
  },
  {
   "cell_type": "code",
   "execution_count": null,
   "metadata": {},
   "outputs": [],
   "source": []
  }
 ],
 "metadata": {
  "kernelspec": {
   "display_name": "Python 3",
   "language": "python",
   "name": "python3"
  },
  "language_info": {
   "codemirror_mode": {
    "name": "ipython",
    "version": 3
   },
   "file_extension": ".py",
   "mimetype": "text/x-python",
   "name": "python",
   "nbconvert_exporter": "python",
   "pygments_lexer": "ipython3",
   "version": "3.7.4"
  }
 },
 "nbformat": 4,
 "nbformat_minor": 2
}
